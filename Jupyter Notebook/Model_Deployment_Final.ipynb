{
 "cells": [
  {
   "cell_type": "markdown",
   "metadata": {
    "id": "daWeC-7WB1TT"
   },
   "source": [
    "## MODEL DEPLOYMENT\n",
    "\n",
    "Di notebook ini, saya akan men-deploy model terbaik yang saya dapatkan dari uji coba modelling di notebook sebelumnya, tetapi dengan adanya pencobaan tambahan update di hyperparameter agar model dapat bekerja lebih bagus.\n",
    "\n",
    "Di notebook ini terdapat 2 model yang menurut saya paling bagus berdasarkan pilihan metricsnya:\n",
    "\n",
    "1). Tuned Logistic Regression (Macro Precision)\n",
    "\n",
    "2). Tuned Random forest Classifier SMOTE (Macro F1-score)"
   ]
  },
  {
   "cell_type": "code",
   "execution_count": 1,
   "metadata": {
    "colab": {
     "base_uri": "https://localhost:8080/",
     "height": 173
    },
    "id": "pC4dVizlCHLz",
    "outputId": "e543748a-b033-4235-a659-fe57bab2874f"
   },
   "outputs": [
    {
     "name": "stderr",
     "output_type": "stream",
     "text": [
      "/Users/steven/opt/anaconda3/lib/python3.7/site-packages/sklearn/utils/deprecation.py:143: FutureWarning: The sklearn.metrics.classification module is  deprecated in version 0.22 and will be removed in version 0.24. The corresponding classes / functions should instead be imported from sklearn.metrics. Anything that cannot be imported from sklearn.metrics is now part of the private API.\n",
      "  warnings.warn(message, FutureWarning)\n"
     ]
    }
   ],
   "source": [
    "import pandas as pd\n",
    "import numpy as np\n",
    "import matplotlib.pyplot as plt\n",
    "import seaborn as sns\n",
    "import scipy.stats as ss\n",
    "from scipy.stats import kstest\n",
    "from scipy.stats import mannwhitneyu, chi2_contingency\n",
    "from yellowbrick.model_selection import LearningCurve\n",
    "\n",
    "from sklearn.metrics import f1_score, precision_score, recall_score, roc_auc_score, accuracy_score, roc_curve, auc\n",
    "from sklearn.metrics import mean_squared_error\n",
    "from sklearn.metrics import mean_absolute_error\n",
    "from sklearn import preprocessing \n",
    "from sklearn.model_selection import train_test_split\n",
    "from sklearn.model_selection import RandomizedSearchCV\n",
    "from jcopml.tuning.space import Real, Integer\n",
    "from imblearn.over_sampling import SMOTE\n",
    "from sklearn.linear_model import LogisticRegression\n",
    "from sklearn.ensemble import RandomForestClassifier\n",
    "from sklearn.neighbors import KNeighborsClassifier\n",
    "from sklearn.metrics import confusion_matrix\n",
    "from sklearn.metrics import classification_report\n",
    "from sklearn.model_selection import GridSearchCV\n",
    "from sklearn.model_selection import cross_val_score\n",
    "from sklearn.feature_selection import RFE\n",
    "import statsmodels.api as sm\n",
    "from sklearn.metrics import matthews_corrcoef\n",
    "from sklearn.preprocessing import StandardScaler\n",
    "from sklearn.compose import ColumnTransformer\n",
    "from imblearn.pipeline import Pipeline\n",
    "from sklearn.preprocessing import OneHotEncoder\n",
    "\n",
    "import pickle\n",
    "\n",
    "SEED = 21\n",
    "import warnings\n",
    "warnings.filterwarnings('ignore')\n"
   ]
  },
  {
   "cell_type": "code",
   "execution_count": 2,
   "metadata": {
    "id": "w07qhfYdCHx6"
   },
   "outputs": [],
   "source": [
    "bank = pd.read_csv(\"bank_new.csv\")"
   ]
  },
  {
   "cell_type": "code",
   "execution_count": 3,
   "metadata": {
    "colab": {
     "base_uri": "https://localhost:8080/",
     "height": 224
    },
    "id": "uXMkzSE9CL6D",
    "outputId": "8f7a6f8b-e8bb-418c-d106-1c80262657c4"
   },
   "outputs": [
    {
     "data": {
      "text/html": [
       "<div>\n",
       "<style scoped>\n",
       "    .dataframe tbody tr th:only-of-type {\n",
       "        vertical-align: middle;\n",
       "    }\n",
       "\n",
       "    .dataframe tbody tr th {\n",
       "        vertical-align: top;\n",
       "    }\n",
       "\n",
       "    .dataframe thead th {\n",
       "        text-align: right;\n",
       "    }\n",
       "</style>\n",
       "<table border=\"1\" class=\"dataframe\">\n",
       "  <thead>\n",
       "    <tr style=\"text-align: right;\">\n",
       "      <th></th>\n",
       "      <th>age</th>\n",
       "      <th>job</th>\n",
       "      <th>marital</th>\n",
       "      <th>education</th>\n",
       "      <th>default</th>\n",
       "      <th>contact</th>\n",
       "      <th>month</th>\n",
       "      <th>campaign</th>\n",
       "      <th>poutcome</th>\n",
       "      <th>emp.var.rate</th>\n",
       "      <th>cons.price.idx</th>\n",
       "      <th>cons.conf.idx</th>\n",
       "      <th>euribor3m</th>\n",
       "      <th>nr.employed</th>\n",
       "      <th>y</th>\n",
       "    </tr>\n",
       "  </thead>\n",
       "  <tbody>\n",
       "    <tr>\n",
       "      <th>0</th>\n",
       "      <td>56</td>\n",
       "      <td>housemaid</td>\n",
       "      <td>married</td>\n",
       "      <td>basic.4y</td>\n",
       "      <td>no</td>\n",
       "      <td>telephone</td>\n",
       "      <td>may</td>\n",
       "      <td>1</td>\n",
       "      <td>nonexistent</td>\n",
       "      <td>1.1</td>\n",
       "      <td>93.994</td>\n",
       "      <td>-36.4</td>\n",
       "      <td>4.857</td>\n",
       "      <td>5191.0</td>\n",
       "      <td>no</td>\n",
       "    </tr>\n",
       "    <tr>\n",
       "      <th>1</th>\n",
       "      <td>57</td>\n",
       "      <td>services</td>\n",
       "      <td>married</td>\n",
       "      <td>high.school</td>\n",
       "      <td>unknown</td>\n",
       "      <td>telephone</td>\n",
       "      <td>may</td>\n",
       "      <td>1</td>\n",
       "      <td>nonexistent</td>\n",
       "      <td>1.1</td>\n",
       "      <td>93.994</td>\n",
       "      <td>-36.4</td>\n",
       "      <td>4.857</td>\n",
       "      <td>5191.0</td>\n",
       "      <td>no</td>\n",
       "    </tr>\n",
       "    <tr>\n",
       "      <th>2</th>\n",
       "      <td>37</td>\n",
       "      <td>services</td>\n",
       "      <td>married</td>\n",
       "      <td>high.school</td>\n",
       "      <td>no</td>\n",
       "      <td>telephone</td>\n",
       "      <td>may</td>\n",
       "      <td>1</td>\n",
       "      <td>nonexistent</td>\n",
       "      <td>1.1</td>\n",
       "      <td>93.994</td>\n",
       "      <td>-36.4</td>\n",
       "      <td>4.857</td>\n",
       "      <td>5191.0</td>\n",
       "      <td>no</td>\n",
       "    </tr>\n",
       "    <tr>\n",
       "      <th>3</th>\n",
       "      <td>40</td>\n",
       "      <td>admin.</td>\n",
       "      <td>married</td>\n",
       "      <td>basic.6y</td>\n",
       "      <td>no</td>\n",
       "      <td>telephone</td>\n",
       "      <td>may</td>\n",
       "      <td>1</td>\n",
       "      <td>nonexistent</td>\n",
       "      <td>1.1</td>\n",
       "      <td>93.994</td>\n",
       "      <td>-36.4</td>\n",
       "      <td>4.857</td>\n",
       "      <td>5191.0</td>\n",
       "      <td>no</td>\n",
       "    </tr>\n",
       "    <tr>\n",
       "      <th>4</th>\n",
       "      <td>56</td>\n",
       "      <td>services</td>\n",
       "      <td>married</td>\n",
       "      <td>high.school</td>\n",
       "      <td>no</td>\n",
       "      <td>telephone</td>\n",
       "      <td>may</td>\n",
       "      <td>1</td>\n",
       "      <td>nonexistent</td>\n",
       "      <td>1.1</td>\n",
       "      <td>93.994</td>\n",
       "      <td>-36.4</td>\n",
       "      <td>4.857</td>\n",
       "      <td>5191.0</td>\n",
       "      <td>no</td>\n",
       "    </tr>\n",
       "  </tbody>\n",
       "</table>\n",
       "</div>"
      ],
      "text/plain": [
       "   age        job  marital    education  default    contact month  campaign  \\\n",
       "0   56  housemaid  married     basic.4y       no  telephone   may         1   \n",
       "1   57   services  married  high.school  unknown  telephone   may         1   \n",
       "2   37   services  married  high.school       no  telephone   may         1   \n",
       "3   40     admin.  married     basic.6y       no  telephone   may         1   \n",
       "4   56   services  married  high.school       no  telephone   may         1   \n",
       "\n",
       "      poutcome  emp.var.rate  cons.price.idx  cons.conf.idx  euribor3m  \\\n",
       "0  nonexistent           1.1          93.994          -36.4      4.857   \n",
       "1  nonexistent           1.1          93.994          -36.4      4.857   \n",
       "2  nonexistent           1.1          93.994          -36.4      4.857   \n",
       "3  nonexistent           1.1          93.994          -36.4      4.857   \n",
       "4  nonexistent           1.1          93.994          -36.4      4.857   \n",
       "\n",
       "   nr.employed   y  \n",
       "0       5191.0  no  \n",
       "1       5191.0  no  \n",
       "2       5191.0  no  \n",
       "3       5191.0  no  \n",
       "4       5191.0  no  "
      ]
     },
     "execution_count": 3,
     "metadata": {},
     "output_type": "execute_result"
    }
   ],
   "source": [
    "bank.head()"
   ]
  },
  {
   "cell_type": "code",
   "execution_count": 4,
   "metadata": {
    "id": "Uh8Rl5SjCNzZ"
   },
   "outputs": [],
   "source": [
    "X = bank.drop(\"y\", axis = 1)\n",
    "y = bank[\"y\"].map({\"no\" : 0, \"yes\" : 1})"
   ]
  },
  {
   "cell_type": "code",
   "execution_count": 5,
   "metadata": {
    "id": "wr6lyQR9CUSR"
   },
   "outputs": [],
   "source": [
    "X_train, X_test, y_train, y_test = train_test_split(X,y, test_size = 0.3, random_state = SEED)"
   ]
  },
  {
   "cell_type": "code",
   "execution_count": 6,
   "metadata": {
    "id": "4-LU9XXTCWhh"
   },
   "outputs": [],
   "source": [
    "numeric_transformer = Pipeline(steps=[\n",
    "    (\"scaler\", StandardScaler())])\n",
    "\n",
    "categorical_transformer = Pipeline(steps=[\n",
    "    (\"onehot\", OneHotEncoder(handle_unknown=\"ignore\"))])\n",
    "\n",
    "preprocessor2 = ColumnTransformer(\n",
    "    transformers=[\n",
    "        (\"num\", numeric_transformer, [\"emp.var.rate\", \"euribor3m\", \"nr.employed\", \"cons.price.idx\"]),\n",
    "        (\"cat\", categorical_transformer, [\"month\", \"poutcome\", \"job\", \"contact\"])])\n"
   ]
  },
  {
   "cell_type": "code",
   "execution_count": 7,
   "metadata": {
    "id": "1UdFIrv2CmZe"
   },
   "outputs": [],
   "source": [
    "sm = SMOTE(random_state = SEED, sampling_strategy='minority')"
   ]
  },
  {
   "cell_type": "markdown",
   "metadata": {
    "id": "gYAdiz4EETX8"
   },
   "source": [
    "## TUNED LOGISTIC REGRESSION (with updated hyperparameter)"
   ]
  },
  {
   "cell_type": "code",
   "execution_count": 8,
   "metadata": {
    "colab": {
     "base_uri": "https://localhost:8080/",
     "height": 34
    },
    "id": "9cgo4RWxEZTA",
    "outputId": "d3dacf00-d2ff-4ba0-9b6e-fa419f438436"
   },
   "outputs": [
    {
     "name": "stdout",
     "output_type": "stream",
     "text": [
      "0.9000728382643682 0.8986809096058914\n"
     ]
    }
   ],
   "source": [
    "log_model3 = Pipeline(steps=[('preprocessor2', preprocessor2),\n",
    "                      ('logreg', LogisticRegression(C = 5.2, fit_intercept = True, \n",
    "                                                    random_state = SEED))])\n",
    "log_model3.fit(X_train, y_train)\n",
    "print(log_model3.score(X_train, y_train), log_model3.score(X_test, y_test))\n"
   ]
  },
  {
   "cell_type": "code",
   "execution_count": 9,
   "metadata": {
    "id": "K6ht_q20Enq0"
   },
   "outputs": [],
   "source": [
    "log_pred2 = log_model3.predict(X_test)\n",
    "log_proba2 = log_model3.predict_proba(X_test)"
   ]
  },
  {
   "cell_type": "code",
   "execution_count": 10,
   "metadata": {
    "colab": {
     "base_uri": "https://localhost:8080/",
     "height": 170
    },
    "id": "TwfqTKQ-EoIs",
    "outputId": "c81c5d85-ad3e-4cff-d4d9-9a6d9732968a"
   },
   "outputs": [
    {
     "name": "stdout",
     "output_type": "stream",
     "text": [
      "              precision    recall  f1-score   support\n",
      "\n",
      "           0       0.91      0.99      0.95     10955\n",
      "           1       0.66      0.22      0.33      1402\n",
      "\n",
      "    accuracy                           0.90     12357\n",
      "   macro avg       0.79      0.60      0.64     12357\n",
      "weighted avg       0.88      0.90      0.87     12357\n",
      "\n"
     ]
    }
   ],
   "source": [
    "print(classification_report(y_test,log_pred2))"
   ]
  },
  {
   "cell_type": "code",
   "execution_count": 11,
   "metadata": {
    "colab": {
     "base_uri": "https://localhost:8080/",
     "height": 444
    },
    "id": "b2w4X_i_EoZM",
    "outputId": "1658b676-cd9c-4219-be04-577b2fd166f8"
   },
   "outputs": [
    {
     "name": "stdout",
     "output_type": "stream",
     "text": [
      "Confusion Matrix \n",
      "\n"
     ]
    },
    {
     "data": {
      "image/png": "[encoded data removed]",
      "text/plain": [
       "<Figure size 576x396 with 2 Axes>"
      ]
     },
     "metadata": {},
     "output_type": "display_data"
    },
    {
     "name": "stdout",
     "output_type": "stream",
     "text": [
      "\n",
      "\n"
     ]
    }
   ],
   "source": [
    "print(\"Confusion Matrix\",\"\\n\")\n",
    "score = round(f1_score(y_test, log_pred2, average = \"macro\"),3) \n",
    "cm1 = confusion_matrix(y_test, log_pred2)\n",
    "sns.heatmap(cm1, annot=True, fmt=\".1f\", linewidths=.3, \n",
    "        square = True, cmap = \"PuBu\")\n",
    "plt.ylabel(\"Actual values\")\n",
    "plt.xlabel(\"Predicted values\")\n",
    "plt.title(\"f1-Score: {0}\".format(score), size = 12)\n",
    "plt.show()\n",
    "print(\"\\n\")"
   ]
  },
  {
   "cell_type": "code",
   "execution_count": 12,
   "metadata": {
    "colab": {
     "base_uri": "https://localhost:8080/",
     "height": 34
    },
    "id": "j-qQMzElEo41",
    "outputId": "9249f6c7-8b45-40b7-f186-0bf4e54fa0d6"
   },
   "outputs": [
    {
     "name": "stdout",
     "output_type": "stream",
     "text": [
      "Matthew Score 0.3400850459614235\n"
     ]
    }
   ],
   "source": [
    "print(\"Matthew Score\",matthews_corrcoef(y_test, log_pred2))"
   ]
  },
  {
   "cell_type": "code",
   "execution_count": 13,
   "metadata": {
    "colab": {
     "base_uri": "https://localhost:8080/",
     "height": 613
    },
    "id": "0t9j4cUiEwQP",
    "outputId": "b210af84-db08-48cc-d274-e5cec673f4bc"
   },
   "outputs": [
    {
     "data": {
      "image/png": "[encoded data removed]",
      "text/plain": [
       "<Figure size 576x396 with 1 Axes>"
      ]
     },
     "metadata": {},
     "output_type": "display_data"
    },
    {
     "data": {
      "text/plain": [
       "<matplotlib.axes._subplots.AxesSubplot at 0x1a3ea81ad0>"
      ]
     },
     "execution_count": 13,
     "metadata": {},
     "output_type": "execute_result"
    }
   ],
   "source": [
    "sizes = np.linspace(0.3, 1, 10)\n",
    "\n",
    "visualizer = LearningCurve(\n",
    "    log_model3, scoring = 'f1_macro', train_size = sizes, random_state = SEED, cv = 5\n",
    ")\n",
    "\n",
    "visualizer.fit(X_train, y_train)\n",
    "visualizer.show()"
   ]
  },
  {
   "cell_type": "markdown",
   "metadata": {
    "id": "Hlp-zwghECfw"
   },
   "source": [
    "## TUNED RANDOM CLASSIFIER SMOTE (with updated hyperparameter)"
   ]
  },
  {
   "cell_type": "code",
   "execution_count": 14,
   "metadata": {
    "colab": {
     "base_uri": "https://localhost:8080/",
     "height": 34
    },
    "id": "o7NbsggjCa3q",
    "outputId": "52428242-e086-4e2b-fcaf-1c61690b665d"
   },
   "outputs": [
    {
     "name": "stdout",
     "output_type": "stream",
     "text": [
      "0.8626131594464292 0.8587844946184349\n"
     ]
    }
   ],
   "source": [
    "rfc_model4 = Pipeline(steps=[('preprocessor2', preprocessor2), ('sm', sm),\n",
    "                      ('rfc', RandomForestClassifier(max_depth = 9, max_features = 0.31, \n",
    "                                                     min_samples_leaf = 3, n_estimators = 200, random_state = SEED))])\n",
    "\n",
    "rfc_model4.fit(X_train, y_train)\n",
    "print(rfc_model4.score(X_train, y_train), rfc_model4.score(X_test, y_test))\n"
   ]
  },
  {
   "cell_type": "code",
   "execution_count": 15,
   "metadata": {
    "id": "kLDPw0dNComu"
   },
   "outputs": [],
   "source": [
    "rfcsmote_pred2 = rfc_model4.predict(X_test)\n",
    "rfcsmote_proba2 = rfc_model4.predict_proba(X_test)"
   ]
  },
  {
   "cell_type": "code",
   "execution_count": 16,
   "metadata": {
    "colab": {
     "base_uri": "https://localhost:8080/",
     "height": 170
    },
    "id": "C0IghaDtCuV5",
    "outputId": "92b92f7e-ec6b-4296-d42f-12be549d96e7"
   },
   "outputs": [
    {
     "name": "stdout",
     "output_type": "stream",
     "text": [
      "              precision    recall  f1-score   support\n",
      "\n",
      "           0       0.95      0.89      0.92     10955\n",
      "           1       0.42      0.61      0.49      1402\n",
      "\n",
      "    accuracy                           0.86     12357\n",
      "   macro avg       0.68      0.75      0.71     12357\n",
      "weighted avg       0.89      0.86      0.87     12357\n",
      "\n"
     ]
    }
   ],
   "source": [
    "print(classification_report(y_test,rfcsmote_pred2))"
   ]
  },
  {
   "cell_type": "code",
   "execution_count": 17,
   "metadata": {
    "colab": {
     "base_uri": "https://localhost:8080/",
     "height": 444
    },
    "id": "7N1lIA0vCvcB",
    "outputId": "dd6ea4af-07ec-43b6-adc4-4338b3c58ede"
   },
   "outputs": [
    {
     "name": "stdout",
     "output_type": "stream",
     "text": [
      "Confusion Matrix \n",
      "\n"
     ]
    },
    {
     "data": {
      "image/png": "[encoded data removed]",
      "text/plain": [
       "<Figure size 576x396 with 2 Axes>"
      ]
     },
     "metadata": {},
     "output_type": "display_data"
    },
    {
     "name": "stdout",
     "output_type": "stream",
     "text": [
      "\n",
      "\n"
     ]
    }
   ],
   "source": [
    "print(\"Confusion Matrix\",\"\\n\")\n",
    "score = round(f1_score(y_test, rfcsmote_pred2, average = \"macro\"),3) \n",
    "cm1 = confusion_matrix(y_test, rfcsmote_pred2)\n",
    "sns.heatmap(cm1, annot=True, fmt=\".1f\", linewidths=.3, \n",
    "        square = True, cmap = \"PuBu\")\n",
    "plt.ylabel(\"Actual values\")\n",
    "plt.xlabel(\"Predicted values\")\n",
    "plt.title(\"f1-Score: {0}\".format(score), size = 12)\n",
    "plt.show()\n",
    "print(\"\\n\")"
   ]
  },
  {
   "cell_type": "code",
   "execution_count": 18,
   "metadata": {
    "colab": {
     "base_uri": "https://localhost:8080/",
     "height": 34
    },
    "id": "Yf9SCfbdCx59",
    "outputId": "c02f4f2f-12ce-48ce-88f0-67b0593bce9b"
   },
   "outputs": [
    {
     "name": "stdout",
     "output_type": "stream",
     "text": [
      "Matthew Score 0.4242726424657398\n"
     ]
    }
   ],
   "source": [
    "print(\"Matthew Score\",matthews_corrcoef(y_test, rfcsmote_pred2))"
   ]
  },
  {
   "cell_type": "code",
   "execution_count": 19,
   "metadata": {
    "colab": {
     "base_uri": "https://localhost:8080/",
     "height": 613
    },
    "id": "YEOA3avmC0WD",
    "outputId": "7d8de529-08cc-4309-f599-58b2f8574cac"
   },
   "outputs": [
    {
     "data": {
      "image/png": "[encoded data removed]",
      "text/plain": [
       "<Figure size 576x396 with 1 Axes>"
      ]
     },
     "metadata": {},
     "output_type": "display_data"
    },
    {
     "data": {
      "text/plain": [
       "<matplotlib.axes._subplots.AxesSubplot at 0x1a3effd790>"
      ]
     },
     "execution_count": 19,
     "metadata": {},
     "output_type": "execute_result"
    }
   ],
   "source": [
    "sizes = np.linspace(0.3, 1, 10)\n",
    "\n",
    "visualizer = LearningCurve(\n",
    "    rfc_model4, scoring = 'f1_macro', train_size = sizes, random_state = SEED, cv = 5\n",
    ")\n",
    "\n",
    "visualizer.fit(X_train, y_train)\n",
    "visualizer.show()"
   ]
  },
  {
   "cell_type": "code",
   "execution_count": 20,
   "metadata": {
    "colab": {
     "base_uri": "https://localhost:8080/",
     "height": 352
    },
    "id": "W2mCMYYfFgZO",
    "outputId": "c71fb5d5-628a-4452-bb5e-a4bea3be3fbc"
   },
   "outputs": [
    {
     "data": {
      "image/png": "[encoded data removed]",
      "text/plain": [
       "<Figure size 1080x360 with 2 Axes>"
      ]
     },
     "metadata": {},
     "output_type": "display_data"
    }
   ],
   "source": [
    "fig, (ax, ax1) = plt.subplots(nrows = 1, ncols = 2, figsize = (15,5))\n",
    "\n",
    "## Tuned Logistic Regression (Updated)\n",
    "logpreds = log_proba2[:,1]\n",
    "fprlog, tprlog, thresholdlog = roc_curve(y_test, logpreds)\n",
    "roc_auc_log = auc(fprlog, tprlog)\n",
    "\n",
    "ax.plot(fprlog, tprlog, 'b', label = 'AUC = %0.2f' % roc_auc_log)\n",
    "ax.plot([0, 1], [0, 1],'r--')\n",
    "ax.set_title('Receiver Operating Characteristic LogReg ',fontsize=10)\n",
    "ax.set_ylabel('True Positive Rate',fontsize=20)\n",
    "ax.set_xlabel('False Positive Rate',fontsize=15)\n",
    "ax.legend(loc = 'lower right', prop={'size': 16})\n",
    "\n",
    "\n",
    "## Tuned Random Forest Classifier SMOTE (Updated)\n",
    "rfcpred = rfcsmote_proba2[:,1]\n",
    "fprrfc, tprrfc, thresholdrfc = roc_curve(y_test, rfcpred)\n",
    "roc_auc_rfc = auc(fprrfc, tprrfc)\n",
    "\n",
    "ax1.plot(fprrfc, tprrfc, 'b', label = 'AUC = %0.2f' % roc_auc_rfc)\n",
    "ax1.plot([0, 1], [0, 1],'r--')\n",
    "ax1.set_title('Receiver Operating Characteristic RFC ',fontsize=10)\n",
    "ax1.set_ylabel('True Positive Rate',fontsize=20)\n",
    "ax1.set_xlabel('False Positive Rate',fontsize=15)\n",
    "ax1.legend(loc = 'lower right', prop={'size': 16})\n",
    "\n",
    "\n",
    "plt.subplots_adjust(wspace=0.25)"
   ]
  },
  {
   "cell_type": "code",
   "execution_count": 21,
   "metadata": {
    "id": "2IIGKIMBC4qh"
   },
   "outputs": [],
   "source": [
    "def Metric_evaluation(y_test, y_pred):\n",
    "    f1.append(f1_score(y_test,y_pred, average = 'macro'))\n",
    "    precision.append(precision_score(y_test, y_pred, average = 'macro'))\n",
    "    recall.append(recall_score(y_test, y_pred, average = 'macro'))\n",
    "    matthews.append(matthews_corrcoef(y_test, y_pred)) \n",
    "\n",
    "def roc_auc(model):\n",
    "    rocauc.append(model)"
   ]
  },
  {
   "cell_type": "code",
   "execution_count": 22,
   "metadata": {
    "id": "8Z2Cq2afDM2E"
   },
   "outputs": [],
   "source": [
    "f1 = []\n",
    "precision = []\n",
    "recall = []\n",
    "matthews = []\n",
    "rocauc = []"
   ]
  },
  {
   "cell_type": "code",
   "execution_count": 23,
   "metadata": {
    "id": "3Q8t4Nb4FPCc"
   },
   "outputs": [],
   "source": [
    "Metric_evaluation(y_test, log_pred2)\n",
    "Metric_evaluation(y_test, rfcsmote_pred2)\n",
    "\n",
    "roc_auc(roc_auc_log)\n",
    "roc_auc(roc_auc_rfc)\n"
   ]
  },
  {
   "cell_type": "code",
   "execution_count": 24,
   "metadata": {
    "id": "1LS4MwMgDRXa"
   },
   "outputs": [],
   "source": [
    "Metric_table = pd.DataFrame(index = [\n",
    "                                    'Tuned Logistic Regression (Updated)',\n",
    "                                    'Tuned Random Forest Classifier SMOTE (Updated)'\n",
    "                                    ])\n",
    "\n",
    "Metric_table['Macro F1-Score'] = f1\n",
    "Metric_table['Macro Precision'] = precision\n",
    "Metric_table['Macro Recall'] = recall\n",
    "Metric_table['Matthews'] = matthews\n",
    "Metric_table['ROG/AUC'] = rocauc"
   ]
  },
  {
   "cell_type": "code",
   "execution_count": 25,
   "metadata": {
    "colab": {
     "base_uri": "https://localhost:8080/",
     "height": 111
    },
    "id": "6M_5asTMFA6C",
    "outputId": "e1022f7c-aa93-4775-d1e9-0d7f1ebd98be"
   },
   "outputs": [
    {
     "data": {
      "text/html": [
       "<div>\n",
       "<style scoped>\n",
       "    .dataframe tbody tr th:only-of-type {\n",
       "        vertical-align: middle;\n",
       "    }\n",
       "\n",
       "    .dataframe tbody tr th {\n",
       "        vertical-align: top;\n",
       "    }\n",
       "\n",
       "    .dataframe thead th {\n",
       "        text-align: right;\n",
       "    }\n",
       "</style>\n",
       "<table border=\"1\" class=\"dataframe\">\n",
       "  <thead>\n",
       "    <tr style=\"text-align: right;\">\n",
       "      <th></th>\n",
       "      <th>Macro F1-Score</th>\n",
       "      <th>Macro Precision</th>\n",
       "      <th>Macro Recall</th>\n",
       "      <th>Matthews</th>\n",
       "      <th>ROG/AUC</th>\n",
       "    </tr>\n",
       "  </thead>\n",
       "  <tbody>\n",
       "    <tr>\n",
       "      <th>Tuned Logistic Regression (Updated)</th>\n",
       "      <td>0.635690</td>\n",
       "      <td>0.786064</td>\n",
       "      <td>0.601077</td>\n",
       "      <td>0.340085</td>\n",
       "      <td>0.793996</td>\n",
       "    </tr>\n",
       "    <tr>\n",
       "      <th>Tuned Random Forest Classifier SMOTE (Updated)</th>\n",
       "      <td>0.705569</td>\n",
       "      <td>0.681183</td>\n",
       "      <td>0.748377</td>\n",
       "      <td>0.424273</td>\n",
       "      <td>0.798820</td>\n",
       "    </tr>\n",
       "  </tbody>\n",
       "</table>\n",
       "</div>"
      ],
      "text/plain": [
       "                                                Macro F1-Score  \\\n",
       "Tuned Logistic Regression (Updated)                   0.635690   \n",
       "Tuned Random Forest Classifier SMOTE (Updated)        0.705569   \n",
       "\n",
       "                                                Macro Precision  Macro Recall  \\\n",
       "Tuned Logistic Regression (Updated)                    0.786064      0.601077   \n",
       "Tuned Random Forest Classifier SMOTE (Updated)         0.681183      0.748377   \n",
       "\n",
       "                                                Matthews   ROG/AUC  \n",
       "Tuned Logistic Regression (Updated)             0.340085  0.793996  \n",
       "Tuned Random Forest Classifier SMOTE (Updated)  0.424273  0.798820  "
      ]
     },
     "execution_count": 25,
     "metadata": {},
     "output_type": "execute_result"
    }
   ],
   "source": [
    "Metric_table"
   ]
  },
  {
   "cell_type": "markdown",
   "metadata": {
    "id": "ijaHjIRyNRDY"
   },
   "source": [
    "1). Utk Metric score Precision (Macro), dari antara semua model yang sudah dicoba, didapatkanlah bahwa model Tuned Logistic Regression (Updated) yang memiliki Precision (Macro) tertinggi.\n",
    "\n",
    "2). Utk Metric score F1-score (Macro), dari antara semua model yang sudah dicoba, didapatkanlah bahwa "
   ]
  },
  {
   "cell_type": "markdown",
   "metadata": {
    "id": "hwhmmfp1GbGt"
   },
   "source": [
    "## Pada akhirnya saya memilih utk memakai model Tuned Random Forest Classifier SMOTE (Updated) sebagai model terbaik utk deployment, dikarenakan saya ingin lebih fokus dengan F1-score (Macro)"
   ]
  },
  {
   "cell_type": "code",
   "execution_count": 26,
   "metadata": {
    "colab": {
     "base_uri": "https://localhost:8080/",
     "height": 466
    },
    "id": "0E0Ox22yGsKz",
    "outputId": "360f4f4e-84b4-4f06-dba0-10839944ff45"
   },
   "outputs": [
    {
     "data": {
      "image/png": "[encoded data removed]",
      "text/plain": [
       "<Figure size 576x396 with 1 Axes>"
      ]
     },
     "metadata": {},
     "output_type": "display_data"
    }
   ],
   "source": [
    "ranking = rfc_model4[\"rfc\"].feature_importances_\n",
    "features = np.argsort(ranking)[::-1][:10]\n",
    "columns = pd.get_dummies(X_train[['emp.var.rate','euribor3m','nr.employed','cons.price.idx','month','poutcome',\n",
    "                                 'job','contact']]).columns\n",
    "plt.title(\"Feature importances based on Random Forest Regressor\", y = 1.03, size = 18)\n",
    "plt.bar(range(len(features)), ranking[features], color=\"aqua\", align=\"center\")\n",
    "plt.xticks(range(len(features)), columns[features], rotation=80)\n",
    "plt.show()\n"
   ]
  },
  {
   "cell_type": "markdown",
   "metadata": {
    "id": "AJxRwwH4LoEw"
   },
   "source": [
    "Feature dari Social and Economic context attribute adalah yang paling berpengaruh terhadap target kita. Ini masuk akal juga karena adanya korelasi yang lumayan tinggi antar fitur\" tersebut.\n",
    "\n",
    "Dengan begitu kita bisa merekomendasikan bank, utk lebih memperhatikan kondisi Social and Economic context attribute dalam membuat strategi marketing campaign."
   ]
  },
  {
   "cell_type": "markdown",
   "metadata": {
    "id": "3bp5TEXjG3Fh"
   },
   "source": [
    "### Pickle Dump"
   ]
  },
  {
   "cell_type": "code",
   "execution_count": 27,
   "metadata": {
    "id": "OJYOtx6pG0ad"
   },
   "outputs": [],
   "source": [
    "filename = 'randomforest.sav'\n",
    "pickle.dump(rfc_model4, open(filename, 'wb'))"
   ]
  },
  {
   "cell_type": "markdown",
   "metadata": {
    "id": "fNSfaXPUG6AX"
   },
   "source": [
    "### Pickle Load"
   ]
  },
  {
   "cell_type": "code",
   "execution_count": 28,
   "metadata": {
    "id": "l9e3wHdAG6_D"
   },
   "outputs": [],
   "source": [
    "importModel = pickle.load(open('RandomForest.sav', 'rb'))"
   ]
  },
  {
   "cell_type": "code",
   "execution_count": 29,
   "metadata": {
    "colab": {
     "base_uri": "https://localhost:8080/",
     "height": 224
    },
    "id": "xkqmgtnEHFkB",
    "outputId": "fdfc75f2-34d8-4383-93a3-541d65cd86c5"
   },
   "outputs": [
    {
     "data": {
      "text/html": [
       "<div>\n",
       "<style scoped>\n",
       "    .dataframe tbody tr th:only-of-type {\n",
       "        vertical-align: middle;\n",
       "    }\n",
       "\n",
       "    .dataframe tbody tr th {\n",
       "        vertical-align: top;\n",
       "    }\n",
       "\n",
       "    .dataframe thead th {\n",
       "        text-align: right;\n",
       "    }\n",
       "</style>\n",
       "<table border=\"1\" class=\"dataframe\">\n",
       "  <thead>\n",
       "    <tr style=\"text-align: right;\">\n",
       "      <th></th>\n",
       "      <th>age</th>\n",
       "      <th>job</th>\n",
       "      <th>marital</th>\n",
       "      <th>education</th>\n",
       "      <th>default</th>\n",
       "      <th>contact</th>\n",
       "      <th>month</th>\n",
       "      <th>campaign</th>\n",
       "      <th>poutcome</th>\n",
       "      <th>emp.var.rate</th>\n",
       "      <th>cons.price.idx</th>\n",
       "      <th>cons.conf.idx</th>\n",
       "      <th>euribor3m</th>\n",
       "      <th>nr.employed</th>\n",
       "    </tr>\n",
       "  </thead>\n",
       "  <tbody>\n",
       "    <tr>\n",
       "      <th>29203</th>\n",
       "      <td>44</td>\n",
       "      <td>entrepreneur</td>\n",
       "      <td>married</td>\n",
       "      <td>university.degree</td>\n",
       "      <td>no</td>\n",
       "      <td>cellular</td>\n",
       "      <td>apr</td>\n",
       "      <td>2</td>\n",
       "      <td>nonexistent</td>\n",
       "      <td>-1.8</td>\n",
       "      <td>93.075</td>\n",
       "      <td>-47.1</td>\n",
       "      <td>1.405</td>\n",
       "      <td>5099.1</td>\n",
       "    </tr>\n",
       "    <tr>\n",
       "      <th>4243</th>\n",
       "      <td>46</td>\n",
       "      <td>blue-collar</td>\n",
       "      <td>married</td>\n",
       "      <td>basic.4y</td>\n",
       "      <td>no</td>\n",
       "      <td>telephone</td>\n",
       "      <td>may</td>\n",
       "      <td>2</td>\n",
       "      <td>nonexistent</td>\n",
       "      <td>1.1</td>\n",
       "      <td>93.994</td>\n",
       "      <td>-36.4</td>\n",
       "      <td>4.856</td>\n",
       "      <td>5191.0</td>\n",
       "    </tr>\n",
       "    <tr>\n",
       "      <th>2953</th>\n",
       "      <td>33</td>\n",
       "      <td>technician</td>\n",
       "      <td>divorced</td>\n",
       "      <td>professional.course</td>\n",
       "      <td>no</td>\n",
       "      <td>telephone</td>\n",
       "      <td>may</td>\n",
       "      <td>4</td>\n",
       "      <td>nonexistent</td>\n",
       "      <td>1.1</td>\n",
       "      <td>93.994</td>\n",
       "      <td>-36.4</td>\n",
       "      <td>4.859</td>\n",
       "      <td>5191.0</td>\n",
       "    </tr>\n",
       "    <tr>\n",
       "      <th>39970</th>\n",
       "      <td>36</td>\n",
       "      <td>management</td>\n",
       "      <td>married</td>\n",
       "      <td>university.degree</td>\n",
       "      <td>no</td>\n",
       "      <td>cellular</td>\n",
       "      <td>jun</td>\n",
       "      <td>1</td>\n",
       "      <td>failure</td>\n",
       "      <td>-1.7</td>\n",
       "      <td>94.055</td>\n",
       "      <td>-39.8</td>\n",
       "      <td>0.761</td>\n",
       "      <td>4991.6</td>\n",
       "    </tr>\n",
       "    <tr>\n",
       "      <th>37999</th>\n",
       "      <td>76</td>\n",
       "      <td>retired</td>\n",
       "      <td>divorced</td>\n",
       "      <td>basic.4y</td>\n",
       "      <td>no</td>\n",
       "      <td>cellular</td>\n",
       "      <td>sep</td>\n",
       "      <td>1</td>\n",
       "      <td>nonexistent</td>\n",
       "      <td>-3.4</td>\n",
       "      <td>92.379</td>\n",
       "      <td>-29.8</td>\n",
       "      <td>0.788</td>\n",
       "      <td>5017.5</td>\n",
       "    </tr>\n",
       "  </tbody>\n",
       "</table>\n",
       "</div>"
      ],
      "text/plain": [
       "       age           job   marital            education default    contact  \\\n",
       "29203   44  entrepreneur   married    university.degree      no   cellular   \n",
       "4243    46   blue-collar   married             basic.4y      no  telephone   \n",
       "2953    33    technician  divorced  professional.course      no  telephone   \n",
       "39970   36    management   married    university.degree      no   cellular   \n",
       "37999   76       retired  divorced             basic.4y      no   cellular   \n",
       "\n",
       "      month  campaign     poutcome  emp.var.rate  cons.price.idx  \\\n",
       "29203   apr         2  nonexistent          -1.8          93.075   \n",
       "4243    may         2  nonexistent           1.1          93.994   \n",
       "2953    may         4  nonexistent           1.1          93.994   \n",
       "39970   jun         1      failure          -1.7          94.055   \n",
       "37999   sep         1  nonexistent          -3.4          92.379   \n",
       "\n",
       "       cons.conf.idx  euribor3m  nr.employed  \n",
       "29203          -47.1      1.405       5099.1  \n",
       "4243           -36.4      4.856       5191.0  \n",
       "2953           -36.4      4.859       5191.0  \n",
       "39970          -39.8      0.761       4991.6  \n",
       "37999          -29.8      0.788       5017.5  "
      ]
     },
     "execution_count": 29,
     "metadata": {},
     "output_type": "execute_result"
    }
   ],
   "source": [
    "X_test.head()"
   ]
  },
  {
   "cell_type": "code",
   "execution_count": 30,
   "metadata": {
    "id": "2ISRN7LQHCxq"
   },
   "outputs": [],
   "source": [
    "sample = pd.DataFrame({\n",
    "    'age' : [42],\n",
    "    'job' : ['admin.'],\n",
    "    'marital' : ['married'],\n",
    "    'education' : ['high.school'],\n",
    "    'default' : ['no'],\n",
    "    'contact' : ['telephone'],\n",
    "    'month' : ['apr'],\n",
    "    'campaign' : [12],\n",
    "    'poutcome' : ['nonexistent'],\n",
    "    'emp.var.rate' : [1.2],\n",
    "    'cons.price.idx' : [95],\n",
    "    'cons.conf.idx' : [-33.5],\n",
    "    'euribor3m' : [2.5],\n",
    "    'nr.employed' : [4586.2]\n",
    "})"
   ]
  },
  {
   "cell_type": "code",
   "execution_count": 32,
   "metadata": {
    "colab": {
     "base_uri": "https://localhost:8080/",
     "height": 34
    },
    "id": "qQyy40NGHLXQ",
    "outputId": "a59ca459-35b4-44fa-cd1b-15f0b2fad4ba"
   },
   "outputs": [
    {
     "data": {
      "text/plain": [
       "array([1, 0, 0, ..., 0, 0, 0])"
      ]
     },
     "execution_count": 32,
     "metadata": {},
     "output_type": "execute_result"
    }
   ],
   "source": [
    "importModel.predict(X_test)\n"
   ]
  },
  {
   "cell_type": "code",
   "execution_count": null,
   "metadata": {
    "id": "qgQrDlAeQamx"
   },
   "outputs": [],
   "source": []
  }
 ],
 "metadata": {
  "accelerator": "GPU",
  "colab": {
   "collapsed_sections": [],
   "name": "Model Deployment Final.ipynb",
   "provenance": []
  },
  "kernelspec": {
   "display_name": "Python 3",
   "language": "python",
   "name": "python3"
  },
  "language_info": {
   "codemirror_mode": {
    "name": "ipython",
    "version": 3
   },
   "file_extension": ".py",
   "mimetype": "text/x-python",
   "name": "python",
   "nbconvert_exporter": "python",
   "pygments_lexer": "ipython3",
   "version": "3.7.6"
  }
 },
 "nbformat": 4,
 "nbformat_minor": 1
}
